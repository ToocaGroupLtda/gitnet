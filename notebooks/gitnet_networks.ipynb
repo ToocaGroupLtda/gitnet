{
 "cells": [
  {
   "cell_type": "markdown",
   "metadata": {},
   "source": [
    "# Creating Networks with Gitnet"
   ]
  },
  {
   "cell_type": "code",
   "execution_count": 2,
   "metadata": {
    "collapsed": true
   },
   "outputs": [],
   "source": [
    "import os\n",
    "import gitnet as gx\n",
    "import networkx as nx"
   ]
  },
  {
   "cell_type": "code",
   "execution_count": 3,
   "metadata": {
    "collapsed": false
   },
   "outputs": [
    {
     "name": "stdout",
     "output_type": "stream",
     "text": [
      "None\n"
     ]
    }
   ],
   "source": [
    "# This will navigate to the data folder within the gitnet notebooks. This code will only run properly once.\n",
    "# You can test it, making sure that you are in the data folder, by printing CurrentDir.\n",
    "\n",
    "CurrentDir = os.getcwd() # get the current working directory and store it for later\n",
    "CurrentDir = os.chdir(CurrentDir + '/data/')\n",
    "\n",
    "print(CurrentDir)"
   ]
  },
  {
   "cell_type": "code",
   "execution_count": 4,
   "metadata": {
    "collapsed": false
   },
   "outputs": [
    {
     "name": "stdout",
     "output_type": "stream",
     "text": [
      "Attempting local git log retrieval...\n",
      "Got 39142 characters from: c:\\Users\\User\\Desktop\\NetLab\\gitnet\\notebooks\\data\n"
     ]
    }
   ],
   "source": [
    "# Enter the path to any directory that contains a .git folder. The default will use the gitnet repo itself.\n",
    "mylog = gx.get_log(os.getcwd())"
   ]
  },
  {
   "cell_type": "code",
   "execution_count": 18,
   "metadata": {
    "collapsed": false
   },
   "outputs": [],
   "source": [
    "# Gitnet can generate networks which are an extension of the MultiGraph object from NetworkX.\n",
    "# You simply need to specify which dictionary items you want to to use for the default bipartite graph.\n",
    "\n",
    "G = mylog.generate_network('author', 'files')\n",
    "\n"
   ]
  },
  {
   "cell_type": "code",
   "execution_count": 17,
   "metadata": {
    "collapsed": false
   },
   "outputs": [
    {
     "ename": "AttributeError",
     "evalue": "'MultiGraphPlus' object has no attribute 'write_edges'",
     "output_type": "error",
     "traceback": [
      "\u001b[1;31m---------------------------------------------------------------------------\u001b[0m",
      "\u001b[1;31mAttributeError\u001b[0m                            Traceback (most recent call last)",
      "\u001b[1;32m<ipython-input-17-41e7384dc06f>\u001b[0m in \u001b[0;36m<module>\u001b[1;34m()\u001b[0m\n\u001b[0;32m      1\u001b[0m \u001b[1;31m# You can also write edge and node lists to files, which can be easily stored and read into other programs.\u001b[0m\u001b[1;33m\u001b[0m\u001b[1;33m\u001b[0m\u001b[0m\n\u001b[0;32m      2\u001b[0m \u001b[1;33m\u001b[0m\u001b[0m\n\u001b[1;32m----> 3\u001b[1;33m \u001b[0mG\u001b[0m\u001b[1;33m.\u001b[0m\u001b[0mwrite_edges\u001b[0m\u001b[1;33m(\u001b[0m\u001b[1;34m'my_edges.txt'\u001b[0m\u001b[1;33m,\u001b[0m \u001b[1;34m'author'\u001b[0m\u001b[1;33m,\u001b[0m \u001b[1;34m'files'\u001b[0m\u001b[1;33m)\u001b[0m\u001b[1;33m\u001b[0m\u001b[0m\n\u001b[0m",
      "\u001b[1;31mAttributeError\u001b[0m: 'MultiGraphPlus' object has no attribute 'write_edges'"
     ]
    }
   ],
   "source": [
    "# You can also write edge and node lists to files, which can be easily stored and read into other programs. \n",
    "\n",
    "G.write_edges('my_edges.txt', 'author', 'files')"
   ]
  },
  {
   "cell_type": "code",
   "execution_count": 20,
   "metadata": {
    "collapsed": false
   },
   "outputs": [
    {
     "name": "stdout",
     "output_type": "stream",
     "text": [
      "This 'MultiGraphPlus' object has: \n",
      "158 nodes, 4 are in Mode 1.\n",
      "347 edges. \n",
      "Density: 0.5633116883116883.\n",
      "This 'MultiGraphPlus' object has: \n",
      "158 nodes, 4 are in Mode 1.\n",
      "347 edges. \n",
      "Density: 0.5633116883116883.\n",
      "Transitivity: 0.9934036238197463.\n",
      "Mean Degree Centrality for Mode 1:  0.563311688312.\n",
      "Mean Degree Centrality for Mode 2: 0.563311688312.\n",
      "Mean Betweenness Centrality for Mode 1: 0.00954087637856.\n",
      "Mean Betweenness Centrality for Mode 2: 0.00954087637856.\n",
      "\n"
     ]
    }
   ],
   "source": [
    "# You can also get a brief description of the graph, or a more complete description with the describe_extra = True parameter.\n",
    "\n",
    "G.describe()\n",
    "\n",
    "G.describe(describe_extra = True)"
   ]
  },
  {
   "cell_type": "code",
   "execution_count": 24,
   "metadata": {
    "collapsed": false
   },
   "outputs": [
    {
     "name": "stdout",
     "output_type": "stream",
     "text": [
      "Merging edges...\n",
      "Merging nodes...\n",
      "Note: nodes 'Jillian Anderson' and 'Steve McColl' have the following conflicting atomic attributes: ['id']. In these cases, 'Jillian Anderson' attribute values have been retained, while 'Steve McColl' values have been ignored. If you would rather retain 'Steve McColl' attributes, set 'Steve McColl' to node1 and 'Jillian Anderson' to node2.\n",
      "\n"
     ]
    }
   ],
   "source": [
    "G2 = G.node_merge(\"Jillian Anderson\", \"Steve McColl\")"
   ]
  },
  {
   "cell_type": "code",
   "execution_count": 25,
   "metadata": {
    "collapsed": false
   },
   "outputs": [
    {
     "name": "stdout",
     "output_type": "stream",
     "text": [
      "This 'MultiGraphPlus' object has: \n",
      "157 nodes, 3 are in Mode 1.\n",
      "347 edges. \n",
      "Density: 0.7510822510822511.\n"
     ]
    }
   ],
   "source": [
    "G2.describe() # As you can see, this has merged some of the nodes."
   ]
  },
  {
   "cell_type": "code",
   "execution_count": 26,
   "metadata": {
    "collapsed": true
   },
   "outputs": [],
   "source": [
    "# You can also collapse the edges of a network, which eliminates multiple edges and assigns weights using the weight_sum argument.\n",
    "\n",
    "CollapseG = G.collapse_edges()"
   ]
  },
  {
   "cell_type": "code",
   "execution_count": 27,
   "metadata": {
    "collapsed": false
   },
   "outputs": [
    {
     "name": "stdout",
     "output_type": "stream",
     "text": [
      "This 'MultiGraphPlus' object has: \n",
      "158 nodes, 4 are in Mode 1.\n",
      "169 edges. \n",
      "Density: 0.27435064935064934.\n"
     ]
    }
   ],
   "source": [
    "CollapseG.describe()"
   ]
  },
  {
   "cell_type": "code",
   "execution_count": 29,
   "metadata": {
    "collapsed": false
   },
   "outputs": [
    {
     "name": "stdout",
     "output_type": "stream",
     "text": [
      "Wrote file: quickplot_test.pdf\n"
     ]
    }
   ],
   "source": [
    "# quickplot is the fastest way to visualize a graph using gitnet.\n",
    "\n",
    "G.quickplot(fname = 'quickplot_test.pdf')"
   ]
  },
  {
   "cell_type": "code",
   "execution_count": null,
   "metadata": {
    "collapsed": true
   },
   "outputs": [],
   "source": [
    "G.write_graphml()\n",
    "\n",
    "G.write_tnet()"
   ]
  }
 ],
 "metadata": {
  "kernelspec": {
   "display_name": "Python 3",
   "language": "python",
   "name": "python3"
  },
  "language_info": {
   "codemirror_mode": {
    "name": "ipython",
    "version": 3
   },
   "file_extension": ".py",
   "mimetype": "text/x-python",
   "name": "python",
   "nbconvert_exporter": "python",
   "pygments_lexer": "ipython3",
   "version": "3.4.4"
  }
 },
 "nbformat": 4,
 "nbformat_minor": 0
}
