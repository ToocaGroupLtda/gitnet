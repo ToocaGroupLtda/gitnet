{
 "cells": [
  {
   "cell_type": "markdown",
   "metadata": {},
   "source": [
    "# User Testing gitnet\n",
    "\n",
    "#### *June 2016, using version 0.0.8 of gitnet on testpypi*\n"
   ]
  },
  {
   "cell_type": "markdown",
   "metadata": {},
   "source": [
    "\n",
    "## *Introduction* \n"
   ]
  },
  {
   "cell_type": "markdown",
   "metadata": {},
   "source": [
    "To follow this exercise successfully, you need to have:\n",
    "- Python 3 (Anacondas 3.5 is the best bet)\n",
    "- Git (you can update git by running in the terminal: pip install git --upgrade)\n",
    "    - The current version of gitnet is 0.0.8. \n",
    "- NetworkX (you can install by running in ther terminal: pip install networkx)\n",
    "- Matplotlib (you can install by running in the terminal: pip install matplotlib)\n",
    "- Pygraphviz (not neccessarily required, only for the default layout, which happens to be the best one we could find)\n",
    "\n",
    "**Note:** Unfortunately, Pygraphviz can potentially be difficult to install on Windows.\n",
    "\n",
    "Installing gitnet with pip will automatically install bash if you do not already have it installed\n",
    "To install gitnet, open a terminal window and type:\n",
    "\n",
    "`pip install -i https://testpypi.python.org/pypi gitnet`"
   ]
  },
  {
   "cell_type": "code",
   "execution_count": null,
   "metadata": {
    "collapsed": false
   },
   "outputs": [],
   "source": [
    "# For all sections of this exercise, you will need to use the following libraries:\n",
    "\n",
    "import os\n",
    "# import pygraph # Needed for defaults used by quickplot, if you can't install, use layout='spring'.\n",
    "import gitnet as gn\n",
    "import networkx as nx\n",
    "import matplotlib.pyplot as plt"
   ]
  },
  {
   "cell_type": "markdown",
   "metadata": {},
   "source": [
    "## *1. Write-Good Repo*"
   ]
  },
  {
   "cell_type": "markdown",
   "metadata": {},
   "source": [
    "For this exercise, we are going to use the project: https://github.com/btford/write-good\n",
    "\n",
    "In a new terminal window, type:\n",
    "\n",
    "`git clone https://github.com/btford/write-good.git`\n",
    "\n",
    "OR open the page in a browser and download the zip folder."
   ]
  },
  {
   "cell_type": "code",
   "execution_count": null,
   "metadata": {
    "collapsed": false
   },
   "outputs": [],
   "source": [
    "# Set the current working directory, so that all files created will be stored there.\n",
    "# The best bet is to create a folder named 'temp' on your desktop.\n",
    "os.chdir('path')"
   ]
  },
  {
   "cell_type": "code",
   "execution_count": null,
   "metadata": {
    "collapsed": false
   },
   "outputs": [],
   "source": [
    "# Insert the path to the write-good folder on your machine.\n",
    "mylogs = gn.get_log('path')\n",
    "# You can generate a network using any two tags that exist in the log. For a list of tags, just call .attributes() on your log object.\n",
    "graph = mylogs.generate_network('author', 'files')\n",
    "# Quickplot is a preset function that can be used to quickly visualize a network.\n",
    "graph.quickplot('write_good_net.pdf', layout = 'spring')"
   ]
  },
  {
   "cell_type": "code",
   "execution_count": null,
   "metadata": {
    "collapsed": false
   },
   "outputs": [],
   "source": [
    "# You can get a list of all of the values of any tag in the log object.\n",
    "# First, lets take a look at all of the possible tags.\n",
    "print(mylogs.attributes())\n",
    "# Now, lets print that list of values. Choose one of the tags from above.\n",
    "print(mylogs.vector('date'))"
   ]
  },
  {
   "cell_type": "markdown",
   "metadata": {},
   "source": [
    "## *2. NetworkX*"
   ]
  },
  {
   "cell_type": "markdown",
   "metadata": {},
   "source": [
    "For this exercise, we are going to use this project: https://github.com/networkx/networkx\n",
    "\n",
    "In a new terminal window, type:\n",
    "\n",
    "`git clone https://github.com/networkx/networkx.git`\n",
    "\n",
    "OR open the page in a browser and download the zip folder."
   ]
  },
  {
   "cell_type": "code",
   "execution_count": null,
   "metadata": {
    "collapsed": false
   },
   "outputs": [],
   "source": [
    "# First, we are going to create another log object.\n",
    "networkx_log = gn.get_log('path')"
   ]
  },
  {
   "cell_type": "code",
   "execution_count": null,
   "metadata": {
    "collapsed": false
   },
   "outputs": [],
   "source": [
    "# Now you can export the log as a TSV file.\n",
    "networkx_log.tsv(fname = 'networkx_data.tsv')"
   ]
  },
  {
   "cell_type": "markdown",
   "metadata": {},
   "source": [
    "Take a minute to open this file and look at the contents.\n",
    "\n",
    "Notice that there are similar author names that use the same email address.\n",
    "\n",
    "**Hint:** since version 0.0.8, we have simplified the process of identifying duplicate authors. Use `author_email_list` along with `detect_dup_emails` to find potentially duplicate authors. See the cheat sheet for more details."
   ]
  },
  {
   "cell_type": "code",
   "execution_count": null,
   "metadata": {
    "collapsed": false
   },
   "outputs": [],
   "source": [
    "# Gitnet cannot automatically predict when a single author uses two different names to commit to a repo.\n",
    "# For this reason, you may need to use replace one of their aliases with the other.\n",
    "replaced_netx = networkx_log.replace_val('author', 'aric', 'Aric Hagburg')\n",
    "# To make sure that this worked, just create a new TSV and look at the contents.\n",
    "replaced_netx.tsv(fname = 'replaced_data.tsv')"
   ]
  },
  {
   "cell_type": "code",
   "execution_count": null,
   "metadata": {
    "collapsed": false
   },
   "outputs": [],
   "source": [
    "# You can also create an edgelist from any two tags.\n",
    "# Check the possible tags.\n",
    "print(replaced_netx.attributes())\n",
    "# Then use whichever ones you want to generate an edgelist.\n",
    "replaced_netx.write_edges('edgelist.txt', 'author', 'files')"
   ]
  },
  {
   "cell_type": "markdown",
   "metadata": {},
   "source": [
    "*Optional:* you can now read this file into R as an edgelist"
   ]
  },
  {
   "cell_type": "markdown",
   "metadata": {},
   "source": [
    "## *3. Tensorflow*"
   ]
  },
  {
   "cell_type": "markdown",
   "metadata": {},
   "source": [
    "For this exercise, we are going to use this project: https://github.com/tensorflow/tensorflow\n",
    "\n",
    "In a new terminal window, type:\n",
    "\n",
    "`git clone https://github.com/tensorflow/tensorflow.git`\n",
    "\n",
    "OR open the page in a browser and download the zip folder."
   ]
  },
  {
   "cell_type": "code",
   "execution_count": null,
   "metadata": {
    "collapsed": false
   },
   "outputs": [],
   "source": [
    "# Lets start by creating a log object and a graph object, just as in the first exercise.\n",
    "logs_tensor = gn.get_log('path')\n",
    "graph_tensor = logs_tensor.generate_network('author', 'files')"
   ]
  },
  {
   "cell_type": "markdown",
   "metadata": {},
   "source": [
    "For now, hold off on plotting or exporting, and try out some of the advanced methods\n",
    "\n",
    "Below are some usage examples for filter and ignore"
   ]
  },
  {
   "cell_type": "code",
   "execution_count": null,
   "metadata": {
    "collapsed": false
   },
   "outputs": [],
   "source": [
    "# Filter seems to have an error in IPYNB format.\n",
    "\n",
    "\n",
    "# Filter records based on the email domain.\n",
    "filtered_email = logs_tensor.filter('email', 'has', '@gmail.com')\n",
    "# Filter records based on the author name.\n",
    "filtered_author = logs_tensor.filter('author', 'equals', 'Martin Wicke')\n",
    "# Filter records based on commits that have occured after a certain date.\n",
    "filtered_date = logs_tensor.filter('date', 'since', 'Fri Jun 10 15:41:25 2016 -0400')"
   ]
  },
  {
   "cell_type": "markdown",
   "metadata": {},
   "source": [
    "One of the limitations of filter is that because of the date-string format used by git, you need to type a pattern that at least partially matches the appearance of date-strings in the actually commits. \n",
    "\n",
    "However, it is still possible to use expressions such as `Fri June 10 *`, so there is still some room for flexible filtering."
   ]
  },
  {
   "cell_type": "code",
   "execution_count": null,
   "metadata": {
    "collapsed": false
   },
   "outputs": [],
   "source": [
    "# Save one of these to a TSV file to check that it worked.\n",
    "filtered_author.tsv(fname = 'tensorflow_martin.tsv')"
   ]
  },
  {
   "cell_type": "code",
   "execution_count": null,
   "metadata": {
    "collapsed": false
   },
   "outputs": [],
   "source": [
    "# You can also ignore files and file edits that match any specified patter.\n",
    "# Ignore python files:\n",
    "ignore_python = logs_tensor.ignore('.py')\n",
    "# Ignore files with the _ prefix:\n",
    "ignore_prefix = logs_tensor.ignore('_*')"
   ]
  },
  {
   "cell_type": "markdown",
   "metadata": {},
   "source": [
    "Keep in mind that both `filter` and `ignore` can have a significant impact on the network graph. \n",
    "\n",
    "It is best to use them sparingly, and only when it is certainly useful to remove certain information. In many cases, it makes more sense to simply export the full graph and all its data (as a graphml file, for example) and then prune the data in R."
   ]
  },
  {
   "cell_type": "code",
   "execution_count": null,
   "metadata": {
    "collapsed": false
   },
   "outputs": [],
   "source": [
    "# Save one of these to a TSV file to check that it worked.\n",
    "ignore_python.tsv(fname = 'nopy_data.tsv')"
   ]
  },
  {
   "cell_type": "code",
   "execution_count": null,
   "metadata": {
    "collapsed": false
   },
   "outputs": [],
   "source": [
    "# Try generating a network using one of these modified log objects, and compare it to previous results.\n",
    "modified_graph = ignore_python.generate_network('author', 'files')\n",
    "modified_graph.quickplot('modified_graph.pdf', layout = 'spring') # this runs very slow."
   ]
  },
  {
   "cell_type": "markdown",
   "metadata": {},
   "source": [
    "One note about the quickploy function is that it typically uses the `neato` layout from `matplotlib`. \n",
    "\n",
    "Here we are using the `spring` layout from `NetworkX`, but if you did get matplotlib installed, then you can simply leave\n",
    "out the layout argument. It defaults to `neato`."
   ]
  },
  {
   "cell_type": "code",
   "execution_count": null,
   "metadata": {
    "collapsed": false
   },
   "outputs": [],
   "source": [
    "# Try calling describe on both a log object and a graph object.\n",
    "# Is there any other information you would like to see in the describe output?\n",
    "ignore_python.describe()\n",
    "modified_graph.describe()"
   ]
  },
  {
   "cell_type": "markdown",
   "metadata": {},
   "source": [
    "The last advanced method we have to show you is collapse graph. This quickly creates a one-mode network, using *mode1* of the \n",
    "original graph object."
   ]
  },
  {
   "cell_type": "code",
   "execution_count": null,
   "metadata": {
    "collapsed": true
   },
   "outputs": [],
   "source": [
    "# Try calling one of the advanced graph methods, such as *collapse_edges*\n",
    "basic_graph = logs_tensor.generate_network('author', 'files')\n",
    "# Sum_weights = True is an optional argument that creates a weighted multigraph.\n",
    "collapsed_graph = basic_graph.collapse_edges(sum_weights = True)\n",
    "collapsed_graph.quickplot(fname = \"ok_net.pdf\")"
   ]
  },
  {
   "cell_type": "markdown",
   "metadata": {},
   "source": [
    "Optional: try reading an output file into R.\n",
    "\n",
    "Use the edge list created earlier, or create a new *tnet file* or *graphml file* and try reading it into R."
   ]
  },
  {
   "cell_type": "code",
   "execution_count": null,
   "metadata": {
    "collapsed": true
   },
   "outputs": [],
   "source": [
    "# The graphml file will be saved at the directed path, while the tnet file will be saved in the current directory.\n",
    "basic_graph.write_tnet('filename')\n",
    "basic_graph.write_graphml('path/to/file')"
   ]
  },
  {
   "cell_type": "markdown",
   "metadata": {},
   "source": [
    "If you prefer, you can use two columns of the TSV file as the 'source' and 'target' of a networkx graph object in R."
   ]
  },
  {
   "cell_type": "code",
   "execution_count": null,
   "metadata": {
    "collapsed": true
   },
   "outputs": [],
   "source": []
  }
 ],
 "metadata": {
  "kernelspec": {
   "display_name": "Python 3",
   "language": "python",
   "name": "python3"
  },
  "language_info": {
   "codemirror_mode": {
    "name": "ipython",
    "version": 3
   },
   "file_extension": ".py",
   "mimetype": "text/x-python",
   "name": "python",
   "nbconvert_exporter": "python",
   "pygments_lexer": "ipython3",
   "version": "3.4.4"
  }
 },
 "nbformat": 4,
 "nbformat_minor": 0
}
